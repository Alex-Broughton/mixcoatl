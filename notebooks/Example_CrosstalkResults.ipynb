{
 "cells": [
  {
   "cell_type": "code",
   "execution_count": 1,
   "metadata": {},
   "outputs": [],
   "source": [
    "%matplotlib widget\n",
    "import ipywidgets as widgets\n",
    "import matplotlib.pyplot as plt\n",
    "import numpy as np\n",
    "\n",
    "from mixcoatl.database import db_session, query_results\n",
    "from mixcoatl.utils import CrosstalkResults"
   ]
  },
  {
   "cell_type": "markdown",
   "metadata": {},
   "source": [
    "# Displaying Crosstalk Results\n",
    "\n",
    "MixCOATL uses a SQLite database in order to organize and store the results of crosstalk analyses. For more information on the database structure and a brief introduction to interfacing with the SQLite database using MixCOATL tools or Python built-in methods, see the notebook `Example_DatabaseIntro.ipynb`.\n",
    "\n",
    "Here, we would like to be able to view some crosstalk results taken for one half of a CCD (Amp1-Amp8).  There are a number of different combinations of aggressor and victim amplifiers, so an IPython interactive widget is used to faciliate viewing of the results.  First, the database is queried for all results of the CCD (`sensor_name = 'Davis'`) that were measured using the least squares minimization method (`method='MODEL_LSQ'`). NOTE: the `for` loops are made only over the half of the CCD that has measurements."
   ]
  },
  {
   "cell_type": "code",
   "execution_count": 2,
   "metadata": {},
   "outputs": [],
   "source": [
    "database = './data/example_crosstalk_database.db'\n",
    "\n",
    "## Query database for results of each aggressor/victim pairing\n",
    "results = {}\n",
    "for agg in range(1, 9):\n",
    "    for vic in range(1, 9):\n",
    "        \n",
    "        ## Sort results by aggressor signal and add to dictionary\n",
    "        with db_session(database) as f:\n",
    "\n",
    "            r = query_results(f, 'Davis', agg, vic, methods='MODEL_LSQ')\n",
    "            r.sort(key=lambda x: x.aggressor_signal) \n",
    "            \n",
    "            coefficients = np.asarray([result.coefficient for result in r])\n",
    "            error = np.asarray([result.error for result in r])\n",
    "            signals = np.asarray([result.aggressor_signal for result in r])\n",
    "            results[(agg, vic)] = (signals, coefficients, error)"
   ]
  },
  {
   "cell_type": "markdown",
   "metadata": {},
   "source": [
    "Next a `CrosstalkResults` object is initialized with the results dictionary (`results`) and an aggressor/victim amplifier pair (`agg0`, `vic0`). This creates an interactive plot that has a number of widget features to control the display of crosstalk results:\n",
    "\n",
    "1. A slider to select the Aggressor amplifier number.\n",
    "2. A slider to select the Victim amplifier number.\n",
    "3. A checkbox to toggle between absolute crosstalk coefficient and a normalized crosstalk coefficient (NOTE: normalization is done using the highest signal crosstalk measurement).\n",
    "\n",
    "Changes made using any of these three widgets will automatically regenerate a graph of the new results, rescale the y-axis, and update labels. \n",
    "\n",
    "The results presented include error bars, although in most aggressor/victim amplifier pairings they are too small to see."
   ]
  },
  {
   "cell_type": "code",
   "execution_count": 3,
   "metadata": {},
   "outputs": [
    {
     "data": {
      "application/vnd.jupyter.widget-view+json": {
       "model_id": "f228c9ef7ebc44e394b18ea8366a9b50",
       "version_major": 2,
       "version_minor": 0
      },
      "text/plain": [
       "CrosstalkResults(children=(Output(), TwoByTwoLayout(children=(IntSlider(value=1, continuous_update=False, desc…"
      ]
     },
     "metadata": {},
     "output_type": "display_data"
    }
   ],
   "source": [
    "## Make results display widget\n",
    "agg0, vic0 = 1, 2\n",
    "\n",
    "CrosstalkResults(results, agg0, vic0)"
   ]
  },
  {
   "cell_type": "markdown",
   "metadata": {},
   "source": [
    "To close the widget (e.g. to remove the plots from memory), simply close the plot."
   ]
  },
  {
   "cell_type": "code",
   "execution_count": 4,
   "metadata": {},
   "outputs": [],
   "source": [
    "plt.close()"
   ]
  }
 ],
 "metadata": {
  "kernelspec": {
   "display_name": "LSST",
   "language": "python",
   "name": "lsst"
  },
  "language_info": {
   "codemirror_mode": {
    "name": "ipython",
    "version": 3
   },
   "file_extension": ".py",
   "mimetype": "text/x-python",
   "name": "python",
   "nbconvert_exporter": "python",
   "pygments_lexer": "ipython3",
   "version": "3.7.8"
  }
 },
 "nbformat": 4,
 "nbformat_minor": 4
}
