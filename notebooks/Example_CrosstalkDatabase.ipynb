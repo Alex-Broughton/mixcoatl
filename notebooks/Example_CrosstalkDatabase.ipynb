{
 "cells": [
  {
   "cell_type": "code",
   "execution_count": 27,
   "metadata": {},
   "outputs": [],
   "source": [
    "%matplotlib inline\n",
    "import matplotlib.pyplot as plt\n",
    "\n",
    "from mixcoatl.database import Sensor, Segment, Result, db_session, query_results\n",
    "\n",
    "database = './data/crosstalk_test.db'"
   ]
  },
  {
   "cell_type": "markdown",
   "metadata": {},
   "source": [
    "# Exploring the Database\n",
    "\n",
    "The crosstalk results database implementation uses `sqlalchemy` to interface with an `sqlite` database that contains three tables:\n",
    "* `Sensor` table that holds information on the CCD sensors.\n",
    "* `Segment` table that holds information on the segments of each of the CCD sensors.\n",
    "* `Result` table that holds the measured crosstalk information for each segment.\n",
    "\n",
    "The database can be interacted with directly using `sqlalchemy` [Object Relational Mapper or Core tools](https://docs.sqlalchemy.org/en/13/), or by using many of the `MixCOATL` built-in tools designed to handle common use cases.\n",
    "\n",
    "## Basic Database Interfacing\n",
    "\n",
    "Because of the capabilities for a database to become corrupted or unfinished changes to be pushed to the output file, it is highly recommended that all interactions with a database file be performed using the `db_session` context manager, which will safely handle session committing, rollback, and file closure. This tutorial will use this interface extensivel.\n",
    "\n",
    "First, we'll demonstrate this functionality by connecting to a database and displaying a brief summary of the table data."
   ]
  },
  {
   "cell_type": "code",
   "execution_count": 12,
   "metadata": {},
   "outputs": [
    {
     "name": "stdout",
     "output_type": "stream",
     "text": [
      "1 Davis_test E2V-CCD250-112-09 E2V 16\n"
     ]
    }
   ],
   "source": [
    "with db_session(database) as session:\n",
    "    \n",
    "    ## Query for all sensors\n",
    "    query = session.query(Sensor)\n",
    "    sensors = query.all()\n",
    "    \n",
    "    for sensor in sensors:\n",
    "        print(sensor.id, sensor.sensor_name, sensor.lsst_num, sensor.manufacturer, sensor.namps)"
   ]
  },
  {
   "cell_type": "markdown",
   "metadata": {},
   "source": [
    "The information associated with each sensor is a unique integer id, an informal name, the official designation, the manufacturer, and the number of amplifiers. The unique integer id is the \"primary key\" used to uniquely identify each sensor in the database. \n",
    "\n",
    "We can perform a similar query to display information regarding the segments included in the `Segment` table of the database."
   ]
  },
  {
   "cell_type": "code",
   "execution_count": 13,
   "metadata": {},
   "outputs": [
    {
     "name": "stdout",
     "output_type": "stream",
     "text": [
      "1 C17 1 1\n",
      "2 C16 2 1\n",
      "3 C15 3 1\n",
      "4 C14 4 1\n",
      "5 C13 5 1\n",
      "6 C12 6 1\n",
      "7 C11 7 1\n",
      "8 C10 8 1\n",
      "9 C00 9 1\n",
      "10 C01 10 1\n",
      "11 C02 11 1\n",
      "12 C03 12 1\n",
      "13 C04 13 1\n",
      "14 C05 14 1\n",
      "15 C06 15 1\n",
      "16 C07 16 1\n"
     ]
    }
   ],
   "source": [
    "with db_session(database) as session:\n",
    "    \n",
    "    ## Query for all segments\n",
    "    query = session.query(Segment)\n",
    "    segments = query.all()\n",
    "    \n",
    "    for segment in segments:\n",
    "        print(segment.id, segment.segment_name, segment.amplifier_number, segment.sensor_id)"
   ]
  },
  {
   "cell_type": "markdown",
   "metadata": {},
   "source": [
    "The information associated with each segment is a unique integer id (the primary key), the segment name, the output amplifier number, and the primary key integer id of the associated sensor.  \n",
    "\n",
    "To explore the basic structure of the `Result` table, instead of returning all of the results with the query, we'll instead select only the results associated with a specific segment (using that segment's primary key), and print only a subset of those results."
   ]
  },
  {
   "cell_type": "code",
   "execution_count": 19,
   "metadata": {},
   "outputs": [
    {
     "name": "stdout",
     "output_type": "stream",
     "text": [
      "14305 1 1801.150146484375 1.0000000013087478 MODEL_LSQ 1\n",
      "14306 1 1801.150146484375 0.011137694887203394 MODEL_LSQ 2\n",
      "14307 1 1801.150146484375 0.000713900080009691 MODEL_LSQ 3\n",
      "14308 1 1801.150146484375 0.000408126092801782 MODEL_LSQ 4\n",
      "14309 1 1801.150146484375 0.00037242618799685975 MODEL_LSQ 5\n",
      "14310 1 1801.150146484375 0.00031620190808103436 MODEL_LSQ 6\n",
      "14311 1 1801.150146484375 8.06835080478162e-05 MODEL_LSQ 7\n",
      "14312 1 1801.150146484375 0.0003629063374259242 MODEL_LSQ 8\n",
      "14313 1 1801.150146484375 0.00024041367938488738 MODEL_LSQ 9\n",
      "14314 1 1801.150146484375 9.540578259628592e-05 MODEL_LSQ 10\n",
      "14315 1 1801.150146484375 0.00012267225008945153 MODEL_LSQ 11\n",
      "14316 1 1801.150146484375 3.461909484207277e-05 MODEL_LSQ 12\n",
      "14317 1 1801.150146484375 -1.2286265856078775e-05 MODEL_LSQ 13\n",
      "14318 1 1801.150146484375 -0.00010276959925807811 MODEL_LSQ 14\n",
      "14319 1 1801.150146484375 0.00015902184195990817 MODEL_LSQ 15\n",
      "14320 1 1801.150146484375 -1.1134955020803759e-05 MODEL_LSQ 16\n"
     ]
    }
   ],
   "source": [
    "with db_session(database) as session:\n",
    "    \n",
    "    ## Query results for specific segment\n",
    "    query = session.query(Result).filter(Result.aggressor_id == 1)\n",
    "    results = query.all()\n",
    "    \n",
    "    for result in results[:16]:\n",
    "        print(result.id, result.aggressor_id, result.aggressor_signal, result.coefficient, result.method, result.victim_id)"
   ]
  },
  {
   "cell_type": "markdown",
   "metadata": {},
   "source": [
    "The information associated with each result is a unique integer id (the primary key), the integer id of the associated aggressor segment, the signal value of the aggressor, the crosstalk coefficient, the measurement method, and the integer id of the associated victim segment.\n",
    "\n",
    "The above examples have demonstrated the basic means to query the database using the `sqlalchemy` ORM tools, by first building `Query` objects and appending `join` and `filter` methods to the query, before returning the results using `Query.one()`, `Query.first()`, or `Query.all()`.\n",
    "\n",
    "## MixCOATL Database Tools\n",
    "\n",
    "The ability to establish links between tables and corresponding table objects allows for easier querying capabilities to be used within `MixCOATL`.  This is demonstrated below by first using the classmethod `Sensor.from_db()` to initialize a `Sensor` object by querying the database.  The required query keyword is either `sensor_name` or `lsst_num`.\n",
    "\n",
    "The returned `Sensor` object can access the associated `Segment` objects as a class attribute `Sensor.segments` that is a dictionary of the associated `Segment` objects, using the output amplifier numbers `Segment.amplifier_number` as the dictionary keys.\n",
    "\n",
    "Similarly, the `Result` objects associated with each `Segment` in `Sensor.segments` can be accessed as a class attribute `Segment.results` that is a list of all the `Result` objects."
   ]
  },
  {
   "cell_type": "code",
   "execution_count": 25,
   "metadata": {},
   "outputs": [
    {
     "name": "stdout",
     "output_type": "stream",
     "text": [
      "1 C17 1827\n",
      "2 C16 5795\n",
      "3 C15 6027\n",
      "4 C14 2997\n",
      "5 C13 3282\n",
      "6 C12 3354\n",
      "7 C11 3354\n",
      "8 C10 3130\n",
      "9 C00 263\n",
      "10 C01 261\n",
      "11 C02 219\n",
      "12 C03 261\n",
      "13 C04 258\n",
      "14 C05 314\n",
      "15 C06 314\n",
      "16 C07 1584\n"
     ]
    }
   ],
   "source": [
    "with db_session(database) as session:\n",
    "    \n",
    "    sensor = Sensor.from_db(session, sensor_name='Davis_test')\n",
    "    \n",
    "    for key in sensor.segments:\n",
    "        segment_name = sensor.segments[key].segment_name\n",
    "        results = sensor.segments[key].results\n",
    "        \n",
    "        print(key, segment_name, len(results))"
   ]
  },
  {
   "cell_type": "markdown",
   "metadata": {},
   "source": [
    "In this manner, a user can easily query the database for a specific sensor, given knowledge of the sensor's informal name or official designation, and have access to all the crosstalk result associated with that sensor.\n",
    "\n",
    "`MixCOATL` also offers tools to easily query the database for a specific segment, given knowledge of that segments \"parent\" sensor, demonstrated below. Here the classmethod `Segment.from_db()` is used to initialize a `Segment` object by querying the database.  The required keywords are one of either `segment_name` or `amplifier_number` and one of either `sensor_name` or `lsst_num`."
   ]
  },
  {
   "cell_type": "code",
   "execution_count": 26,
   "metadata": {},
   "outputs": [
    {
     "name": "stdout",
     "output_type": "stream",
     "text": [
      "1 C17 1827\n"
     ]
    }
   ],
   "source": [
    "with db_session(database) as session:\n",
    "    \n",
    "    segment = Segment.from_db(session, amplifier_number=1, sensor_name='Davis_test')\n",
    "    results = segment.results\n",
    "    \n",
    "    print(segment.id, segment.segment_name, len(results))"
   ]
  },
  {
   "cell_type": "markdown",
   "metadata": {},
   "source": [
    "The final convenience tool that will be demonstrated is the capability to, given a specific sensor, query for all the crosstalk results for a given aggressor and victim amplifier pair. This is done using the convenience function `query_results`."
   ]
  },
  {
   "cell_type": "code",
   "execution_count": 29,
   "metadata": {},
   "outputs": [
    {
     "name": "stdout",
     "output_type": "stream",
     "text": [
      "90\n"
     ]
    }
   ],
   "source": [
    "with db_session(database) as session:\n",
    "    \n",
    "    results = query_results(session, 'Davis_test', 1, 2, methods='MODEL_LSQ')\n",
    "    print(len(results))"
   ]
  }
 ],
 "metadata": {
  "kernelspec": {
   "display_name": "LSST",
   "language": "python",
   "name": "lsst"
  },
  "language_info": {
   "codemirror_mode": {
    "name": "ipython",
    "version": 3
   },
   "file_extension": ".py",
   "mimetype": "text/x-python",
   "name": "python",
   "nbconvert_exporter": "python",
   "pygments_lexer": "ipython3",
   "version": "3.7.8"
  }
 },
 "nbformat": 4,
 "nbformat_minor": 4
}
