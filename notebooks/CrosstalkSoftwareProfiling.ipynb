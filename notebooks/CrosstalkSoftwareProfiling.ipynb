{
 "cells": [
  {
   "cell_type": "code",
   "execution_count": 1,
   "metadata": {},
   "outputs": [],
   "source": [
    "import glob\n",
    "import os\n",
    "import time\n",
    "import pickle\n",
    "\n",
    "from lsst.obs.lsst import LsstCamMapper as camMapper\n",
    "from lsst.obs.lsst.cameraTransforms import LsstCameraTransforms\n",
    "\n",
    "from mixcoatl.crosstalkTask import CrosstalkTask"
   ]
  },
  {
   "cell_type": "markdown",
   "metadata": {},
   "source": [
    "## Crosstalk Task Debug"
   ]
  },
  {
   "cell_type": "code",
   "execution_count": 2,
   "metadata": {},
   "outputs": [
    {
     "name": "stderr",
     "output_type": "stream",
     "text": [
      "WARNING: VerifyWarning: Keyword name 'AGGRESSOR' is greater than 8 characters or contains characters not allowed by the FITS standard; a HIERARCH card will be created. [astropy.io.fits.card]\n",
      "WARNING:astropy:VerifyWarning: Keyword name 'AGGRESSOR' is greater than 8 characters or contains characters not allowed by the FITS standard; a HIERARCH card will be created.\n"
     ]
    },
    {
     "name": "stdout",
     "output_type": "stream",
     "text": [
      "Total Runtime: 14.972338438034058\n",
      "Total Runtime: 11.100889444351196\n",
      "Total Runtime: 11.636770486831665\n",
      "Total Runtime: 11.99172854423523\n"
     ]
    }
   ],
   "source": [
    "## Script command line arguments\n",
    "sensor_id = 'R21_S11'\n",
    "calib_dir= '/nfs/slac/g/ki/ki19/lsst/snyder18/LSST/Data/BOT/6813D_xtalk/calibration/'\n",
    "output_dir = './'\n",
    "main_dir = '/gpfs/slac/lsst/fs3/g/data/jobHarness/jh_archive-test/LCA-10134_Cryostat/LCA-10134_Cryostat-0001/6813D/BOT_acq/v0/47875/'\n",
    "outfile = 'test_crosstalk_matrix.fits'\n",
    "\n",
    "camera = camMapper._makeCamera()\n",
    "lct = LsstCameraTransforms(camera)\n",
    "gain_results = pickle.load(open(os.path.join(calib_dir, \n",
    "                                             'et_results.pkl'), 'rb'))\n",
    "subdir_list = [x.path for x in os.scandir(main_dir) if os.path.isdir(x.path)]\n",
    "\n",
    "bias_frame = os.path.join(calib_dir, '{0}_superbias.fits'.format(sensor_id))\n",
    "dark_frame = os.path.join(calib_dir, '{0}_superdark.fits'.format(sensor_id))\n",
    "gains = gain_results.get_amp_gains(sensor_id)\n",
    "\n",
    "position_set = set()\n",
    "for subdir in subdir_list:\n",
    "    basename = os.path.basename(subdir)\n",
    "    if \"xtalk\" not in basename:\n",
    "        continue\n",
    "    xpos, ypos = basename.split('_')[-4:-2]\n",
    "    central_sensor, ccdX, ccdY = lct.focalMmToCcdPixel(float(ypos), float(xpos))\n",
    "    if central_sensor == sensor_id:\n",
    "        position_set.add((xpos, ypos))\n",
    "\n",
    "## Only do one for now\n",
    "for i, pos in enumerate(position_set):\n",
    "    pos = list(position_set)[0]\n",
    "    xpos, ypos = pos\n",
    "    infiles = glob.glob(os.path.join(main_dir, '*{0}_{1}*'.format(xpos, ypos),\n",
    "                                     '*{0}.fits'.format(sensor_id)))\n",
    "    \n",
    "    a = time.time()\n",
    "    if i == 0:\n",
    "        crosstalk_task = CrosstalkTask()\n",
    "        crosstalk_task.config.outfile = outfile\n",
    "        crosstalk_task.run(sensor_id, infiles[0], gains, bias_frame=bias_frame,\n",
    "                           dark_frame=dark_frame)\n",
    "    else:\n",
    "        crosstalk_task = CrosstalkTask()\n",
    "        crosstalk_task.run(sensor_id, infiles[0], gains, bias_frame=bias_frame,\n",
    "                           dark_frame=dark_frame, crosstalk_matrix_file=outfile)\n",
    "    print(\"Total Runtime:\", time.time()-a)\n",
    "        \n",
    "\n"
   ]
  },
  {
   "cell_type": "code",
   "execution_count": 80,
   "metadata": {},
   "outputs": [
    {
     "data": {
      "text/plain": [
       "0.8"
      ]
     },
     "execution_count": 80,
     "metadata": {},
     "output_type": "execute_result"
    }
   ],
   "source": [
    "12*4/60."
   ]
  },
  {
   "cell_type": "code",
   "execution_count": null,
   "metadata": {},
   "outputs": [],
   "source": []
  }
 ],
 "metadata": {
  "kernelspec": {
   "display_name": "Python 3",
   "language": "python",
   "name": "python3"
  },
  "language_info": {
   "codemirror_mode": {
    "name": "ipython",
    "version": 3
   },
   "file_extension": ".py",
   "mimetype": "text/x-python",
   "name": "python",
   "nbconvert_exporter": "python",
   "pygments_lexer": "ipython3",
   "version": "3.7.3"
  }
 },
 "nbformat": 4,
 "nbformat_minor": 2
}
