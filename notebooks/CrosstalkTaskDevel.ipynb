{
 "cells": [
  {
   "cell_type": "code",
   "execution_count": 1,
   "metadata": {},
   "outputs": [],
   "source": [
    "%matplotlib inline\n",
    "import numpy as np\n",
    "import glob\n",
    "from os.path import join, basename\n",
    "from astropy.io import fits\n",
    "import matplotlib.pyplot as plt\n",
    "import matplotlib.colors as colors\n",
    "import matplotlib.ticker as ticker"
   ]
  },
  {
   "cell_type": "markdown",
   "metadata": {},
   "source": [
    "## Updated Tasks to Output to DB and/or FITS"
   ]
  },
  {
   "cell_type": "code",
   "execution_count": null,
   "metadata": {},
   "outputs": [],
   "source": [
    "main_dir = '/project/bootcamp/cslage/e2v_fits_files/satellite/20200902-injectdata'\n",
    "#main_dir = '/project/bootcamp/cslage/e2v_fits_files/satellite/20200831-injectdata'\n",
    "\n",
    "## Input for script\n",
    "infiles = sorted(glob.glob(join(main_dir, '*dark_dark*.fits')))\n",
    "sensor_id = 'Davis_test'\n",
    "manufacturer = 'e2v'\n",
    "namps = 16\n",
    "database = 'test.db'\n",
    "\n",
    "seg_names = ['C17', 'C16', 'C15', 'C14', 'C13', 'C12', 'C11', 'C10',\n",
    "             'C00', 'C01', 'C02', 'C03', 'C04', 'C05', 'C06', 'C07']"
   ]
  },
  {
   "cell_type": "code",
   "execution_count": 16,
   "metadata": {},
   "outputs": [],
   "source": [
    "with db_session(database) as f:\n",
    "    \n",
    "    ## Check if sensor exists\n",
    "    try:\n",
    "        sensor = Sensor.from_db(f, name=sensor_id)\n",
    "        namps = sensor.namps\n",
    "    except NoResultFound:\n",
    "        sensor = Sensor(name=sensor_id, manufacturer=manufacturer, namps=namps)\n",
    "        sensor.segments = [Segment(name=seg_names[i], amplifier_number=i+1) for i in range(namps)]\n",
    "        sensor.add_to_db(f)\n",
    "        f.commit()\n",
    "        \n",
    "    for infile in infiles:\n",
    "        ccd = MaskedCCD(infile)\n",
    "\n",
    "        for agg in sensor.segments:\n",
    "\n",
    "            aggarr = ccd.unbiased_and_trimmed_image(agg.amplifier_number).getImage().getArray()\n",
    "\n",
    "            signal = np.mean(aggarr[:, 307])\n",
    "            if signal < 1000:\n",
    "                continue\n",
    "\n",
    "            ## Find aggressor amp and signal level\n",
    "            ly = 200\n",
    "            lx = 50\n",
    "            y, x = (2000, col)\n",
    "            aggressor_stamp = make_stamp(aggarr, y, x, ly=ly, lx=lx)\n",
    "\n",
    "            ## Calculate crosstalk for each victim amp\n",
    "            for vic in sensor.segments:\n",
    "                vicarr = ccd.unbiased_and_trimmed_image(vic.amplifier_number).getImage().getArray()\n",
    "                victim_stamp = make_stamp(vicarr, y, x, ly=ly, lx=lx)\n",
    "                res = crosstalk_fit(aggressor_stamp, victim_stamp, noise=7.0,\n",
    "                                        num_iter=1, nsig=7.0)\n",
    "\n",
    "                result = Result(aggressor_id=agg.id,\n",
    "                                aggressor_signal=signal,\n",
    "                                coefficient=res[0],\n",
    "                                error=res[4],\n",
    "                                method='MODEL_LSQ',\n",
    "                                victim_id=vic.id,\n",
    "                                filename=basename(infile))\n",
    "                result.add_to_db(f)"
   ]
  },
  {
   "cell_type": "code",
   "execution_count": null,
   "metadata": {},
   "outputs": [],
   "source": []
  },
  {
   "cell_type": "code",
   "execution_count": null,
   "metadata": {},
   "outputs": [],
   "source": []
  }
 ],
 "metadata": {
  "kernelspec": {
   "display_name": "LSST",
   "language": "python",
   "name": "lsst"
  },
  "language_info": {
   "codemirror_mode": {
    "name": "ipython",
    "version": 3
   },
   "file_extension": ".py",
   "mimetype": "text/x-python",
   "name": "python",
   "nbconvert_exporter": "python",
   "pygments_lexer": "ipython3",
   "version": "3.7.8"
  }
 },
 "nbformat": 4,
 "nbformat_minor": 4
}
