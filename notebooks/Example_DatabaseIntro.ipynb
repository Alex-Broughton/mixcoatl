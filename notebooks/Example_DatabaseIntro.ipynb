{
 "cells": [
  {
   "cell_type": "code",
   "execution_count": 1,
   "metadata": {},
   "outputs": [],
   "source": [
    "%matplotlib inline\n",
    "import matplotlib.pyplot as plt\n",
    "\n",
    "from mixcoatl.database import Sensor, Segment, Result, db_session, query_results\n",
    "\n",
    "database = './data/example_crosstalk_database.db'"
   ]
  },
  {
   "cell_type": "markdown",
   "metadata": {},
   "source": [
    "# Exploring the Database\n",
    "\n",
    "The crosstalk results database implementation uses `sqlalchemy` to interface with an `sqlite` database that contains three tables:\n",
    "* `Sensor` table that holds information on the CCD sensors.\n",
    "* `Segment` table that holds information on the segments of each of the CCD sensors.\n",
    "* `Result` table that holds the measured crosstalk information for each segment.\n",
    "\n",
    "The database can be interacted with directly using `sqlalchemy` [Object Relational Mapper or Core tools](https://docs.sqlalchemy.org/en/13/), or by using many of the `MixCOATL` built-in tools designed to handle common use cases.\n",
    "\n",
    "## Basic Database Interfacing\n",
    "\n",
    "Because of the capabilities for a database to become corrupted or unfinished changes to be pushed to the output file, it is highly recommended that all interactions with a database file be performed using the `db_session` context manager, which will safely handle session committing, rollback, and file closure. This tutorial will use this interface extensivel.\n",
    "\n",
    "First, we'll demonstrate this functionality by connecting to a database and displaying a brief summary of the table data."
   ]
  },
  {
   "cell_type": "code",
   "execution_count": 2,
   "metadata": {},
   "outputs": [
    {
     "name": "stdout",
     "output_type": "stream",
     "text": [
      "1 Davis E2V-CCD250-112-09 E2V 16\n"
     ]
    }
   ],
   "source": [
    "with db_session(database) as session:\n",
    "    \n",
    "    ## Query for all sensors\n",
    "    query = session.query(Sensor)\n",
    "    sensors = query.all()\n",
    "    \n",
    "    for sensor in sensors:\n",
    "        print(sensor.id, sensor.sensor_name, sensor.lsst_num, sensor.manufacturer, sensor.namps)"
   ]
  },
  {
   "cell_type": "markdown",
   "metadata": {},
   "source": [
    "The information associated with each sensor is a unique integer id, an informal name, the official designation, the manufacturer, and the number of amplifiers. The unique integer id is the \"primary key\" used to uniquely identify each sensor in the database. \n",
    "\n",
    "We can perform a similar query to display information regarding the segments included in the `Segment` table of the database."
   ]
  },
  {
   "cell_type": "code",
   "execution_count": 3,
   "metadata": {},
   "outputs": [
    {
     "name": "stdout",
     "output_type": "stream",
     "text": [
      "1 C17 1 1\n",
      "2 C16 2 1\n",
      "3 C15 3 1\n",
      "4 C14 4 1\n",
      "5 C13 5 1\n",
      "6 C12 6 1\n",
      "7 C11 7 1\n",
      "8 C10 8 1\n",
      "9 C00 9 1\n",
      "10 C01 10 1\n",
      "11 C02 11 1\n",
      "12 C03 12 1\n",
      "13 C04 13 1\n",
      "14 C05 14 1\n",
      "15 C06 15 1\n",
      "16 C07 16 1\n"
     ]
    }
   ],
   "source": [
    "with db_session(database) as session:\n",
    "    \n",
    "    ## Query for all segments\n",
    "    query = session.query(Segment)\n",
    "    segments = query.all()\n",
    "    \n",
    "    for segment in segments:\n",
    "        print(segment.id, segment.segment_name, segment.amplifier_number, segment.sensor_id)"
   ]
  },
  {
   "cell_type": "markdown",
   "metadata": {},
   "source": [
    "The information associated with each segment is a unique integer id (the primary key), the segment name, the output amplifier number, and the primary key integer id of the associated sensor.  \n",
    "\n",
    "To explore the basic structure of the `Result` table, instead of returning all of the results with the query, we'll instead select only the results associated with a specific segment (using that segment's primary key), and print only a subset of those results."
   ]
  },
  {
   "cell_type": "code",
   "execution_count": 4,
   "metadata": {},
   "outputs": [
    {
     "name": "stdout",
     "output_type": "stream",
     "text": [
      "1 1 586.81396484375 1.000000004185043 MODEL_LSQ 1\n",
      "2 1 586.81396484375 0.0023361330749610046 MODEL_LSQ 2\n",
      "3 1 586.81396484375 -0.00012167616012596548 MODEL_LSQ 3\n",
      "4 1 586.81396484375 0.0002847652234041394 MODEL_LSQ 4\n",
      "5 1 586.81396484375 7.788185972889517e-05 MODEL_LSQ 5\n",
      "6 1 586.81396484375 -0.00018462568760060032 MODEL_LSQ 6\n",
      "7 1 586.81396484375 0.0003115234044002403 MODEL_LSQ 7\n",
      "8 1 586.81396484375 -9.984980295150238e-05 MODEL_LSQ 8\n",
      "65 1 1117.0697021484375 0.9999999984437988 MODEL_LSQ 1\n",
      "66 1 1117.0697021484375 0.0020961414651580433 MODEL_LSQ 2\n",
      "67 1 1117.0697021484375 -1.3271469464737745e-05 MODEL_LSQ 3\n",
      "68 1 1117.0697021484375 0.00015652795323698671 MODEL_LSQ 4\n",
      "69 1 1117.0697021484375 -1.427339748400926e-05 MODEL_LSQ 5\n",
      "70 1 1117.0697021484375 -0.00010490737231078748 MODEL_LSQ 6\n",
      "71 1 1117.0697021484375 0.00010001683924523375 MODEL_LSQ 7\n",
      "72 1 1117.0697021484375 -7.056130819603829e-05 MODEL_LSQ 8\n"
     ]
    }
   ],
   "source": [
    "with db_session(database) as session:\n",
    "    \n",
    "    ## Query results for specific segment\n",
    "    query = session.query(Result).filter(Result.aggressor_id == 1)\n",
    "    results = query.all()\n",
    "    \n",
    "    for result in results[:16]:\n",
    "        print(result.id, result.aggressor_id, result.aggressor_signal, result.coefficient, result.method, result.victim_id)"
   ]
  },
  {
   "cell_type": "markdown",
   "metadata": {},
   "source": [
    "The information associated with each result is a unique integer id (the primary key), the integer id of the associated aggressor segment, the signal value of the aggressor, the crosstalk coefficient, the measurement method, and the integer id of the associated victim segment.\n",
    "\n",
    "The above examples have demonstrated the basic means to query the database using the `sqlalchemy` ORM tools, by first building `Query` objects and appending `join` and `filter` methods to the query, before returning the results using `Query.one()`, `Query.first()`, or `Query.all()`.\n",
    "\n",
    "## MixCOATL Database Tools\n",
    "\n",
    "The ability to establish links between tables and corresponding table objects allows for easier querying capabilities to be used within `MixCOATL`.  This is demonstrated below by first using the classmethod `Sensor.from_db()` to initialize a `Sensor` object by querying the database.  The required query keyword is either `sensor_name` or `lsst_num`.\n",
    "\n",
    "The returned `Sensor` object can access the associated `Segment` objects as a class attribute `Sensor.segments` that is a dictionary of the associated `Segment` objects, using the output amplifier numbers `Segment.amplifier_number` as the dictionary keys.\n",
    "\n",
    "Similarly, the `Result` objects associated with each `Segment` in `Sensor.segments` can be accessed as a class attribute `Segment.results` that is a list of all the `Result` objects."
   ]
  },
  {
   "cell_type": "code",
   "execution_count": 5,
   "metadata": {},
   "outputs": [
    {
     "name": "stdout",
     "output_type": "stream",
     "text": [
      "1 C17 392\n",
      "2 C16 392\n",
      "3 C15 392\n",
      "4 C14 392\n",
      "5 C13 392\n",
      "6 C12 392\n",
      "7 C11 392\n",
      "8 C10 392\n",
      "9 C00 0\n",
      "10 C01 0\n",
      "11 C02 0\n",
      "12 C03 0\n",
      "13 C04 0\n",
      "14 C05 0\n",
      "15 C06 0\n",
      "16 C07 0\n"
     ]
    }
   ],
   "source": [
    "with db_session(database) as session:\n",
    "    \n",
    "    sensor = Sensor.from_db(session, sensor_name='Davis')\n",
    "    \n",
    "    for key in sensor.segments:\n",
    "        segment_name = sensor.segments[key].segment_name\n",
    "        results = sensor.segments[key].results\n",
    "        \n",
    "        print(key, segment_name, len(results))"
   ]
  },
  {
   "cell_type": "markdown",
   "metadata": {},
   "source": [
    "In this manner, a user can easily query the database for a specific sensor, given knowledge of the sensor's informal name or official designation, and have access to all the crosstalk result associated with that sensor.\n",
    "\n",
    "`MixCOATL` also offers tools to easily query the database for a specific segment, given knowledge of that segments \"parent\" sensor, demonstrated below. Here the classmethod `Segment.from_db()` is used to initialize a `Segment` object by querying the database.  The required keywords are one of either `segment_name` or `amplifier_number` and one of either `sensor_name` or `lsst_num`."
   ]
  },
  {
   "cell_type": "code",
   "execution_count": 6,
   "metadata": {},
   "outputs": [
    {
     "name": "stdout",
     "output_type": "stream",
     "text": [
      "1 C17 392\n"
     ]
    }
   ],
   "source": [
    "with db_session(database) as session:\n",
    "    \n",
    "    segment = Segment.from_db(session, amplifier_number=1, sensor_name='Davis')\n",
    "    results = segment.results\n",
    "    \n",
    "    print(segment.id, segment.segment_name, len(results))"
   ]
  },
  {
   "cell_type": "markdown",
   "metadata": {},
   "source": [
    "The final convenience tool that will be demonstrated is the capability to, given a specific sensor, query for all the crosstalk results for a given aggressor and victim amplifier pair. This is done using the convenience function `query_results`."
   ]
  },
  {
   "cell_type": "code",
   "execution_count": 7,
   "metadata": {},
   "outputs": [
    {
     "name": "stdout",
     "output_type": "stream",
     "text": [
      "49\n"
     ]
    }
   ],
   "source": [
    "with db_session(database) as session:\n",
    "    \n",
    "    results = query_results(session, 'Davis', 1, 2, methods='MODEL_LSQ')\n",
    "    print(len(results))"
   ]
  },
  {
   "cell_type": "code",
   "execution_count": null,
   "metadata": {},
   "outputs": [],
   "source": []
  }
 ],
 "metadata": {
  "kernelspec": {
   "display_name": "LSST",
   "language": "python",
   "name": "lsst"
  },
  "language_info": {
   "codemirror_mode": {
    "name": "ipython",
    "version": 3
   },
   "file_extension": ".py",
   "mimetype": "text/x-python",
   "name": "python",
   "nbconvert_exporter": "python",
   "pygments_lexer": "ipython3",
   "version": "3.7.8"
  }
 },
 "nbformat": 4,
 "nbformat_minor": 4
}
