{
 "cells": [
  {
   "cell_type": "code",
   "execution_count": 1,
   "metadata": {},
   "outputs": [],
   "source": [
    "import sys\n",
    "import glob\n",
    "sys.path.insert(0,'/home/abrought/mixcoatl/python/mixcoatl/')\n",
    "sys.path.insert(0,'/home/abrought/mixcoatl/python/')\n",
    "from mixcoatl.calibrationTask import CalibrationTask"
   ]
  },
  {
   "cell_type": "code",
   "execution_count": 2,
   "metadata": {},
   "outputs": [
    {
     "name": "stderr",
     "output_type": "stream",
     "text": [
      "/opt/lsst/software/stack/conda/miniconda3-py37_4.8.2/envs/lsst-scipipe-cb4e2dc/lib/python3.7/site-packages/astropy/table/groups.py:259: RuntimeWarning: Mean of empty slice\n",
      "  vals = np.array([func(par_col[i0: i1]) for i0, i1 in zip(i0s, i1s)])\n"
     ]
    }
   ],
   "source": [
    "task = CalibrationTask()\n",
    "infiles = glob.glob(\"*distorted_grid.fits\")\n",
    "task.run(infiles)"
   ]
  },
  {
   "cell_type": "code",
   "execution_count": null,
   "metadata": {},
   "outputs": [],
   "source": []
  }
 ],
 "metadata": {
  "kernelspec": {
   "display_name": "LSST",
   "language": "python",
   "name": "lsst"
  },
  "language_info": {
   "codemirror_mode": {
    "name": "ipython",
    "version": 3
   },
   "file_extension": ".py",
   "mimetype": "text/x-python",
   "name": "python",
   "nbconvert_exporter": "python",
   "pygments_lexer": "ipython3",
   "version": "3.7.8"
  }
 },
 "nbformat": 4,
 "nbformat_minor": 4
}
