{
 "cells": [
  {
   "cell_type": "code",
   "execution_count": 1,
   "metadata": {},
   "outputs": [],
   "source": [
    "%matplotlib inline\n",
    "import numpy as np\n",
    "import glob\n",
    "from os.path import join, basename\n",
    "from astropy.io import fits\n",
    "import matplotlib.pyplot as plt\n",
    "import matplotlib.colors as colors\n",
    "import matplotlib.ticker as ticker"
   ]
  },
  {
   "cell_type": "markdown",
   "metadata": {},
   "source": [
    "## Modify CrosstalkColumnTask\n",
    "\n",
    "Develop a way to programmatically find aggressor amplifier and column numbers for crosstalk analysis, rather than relying on user specification."
   ]
  },
  {
   "cell_type": "code",
   "execution_count": 21,
   "metadata": {},
   "outputs": [],
   "source": [
    "from sqlalchemy.orm.exc import NoResultFound\n",
    "\n",
    "import lsst.eotest.image_utils as imutils\n",
    "from lsst.eotest.sensor.MaskedCCD import MaskedCCD\n",
    "from lsst.eotest.sensor.BrightPixels import BrightPixels\n",
    "from lsst.eotest.sensor.crosstalk import column_mean\n",
    "\n",
    "from mixcoatl.crosstalk import CrosstalkMatrix, make_stamp, crosstalk_fit\n",
    "from mixcoatl.utils import AMP2SEG\n",
    "from mixcoatl.database import Sensor, Segment, Result, db_session\n",
    "\n",
    "## Debug stuff\n",
    "import lsst.geom as lsstGeom\n",
    "import lsst.afw.math as afwMath"
   ]
  },
  {
   "cell_type": "code",
   "execution_count": 17,
   "metadata": {},
   "outputs": [],
   "source": [
    "main_dir = '/project/bootcamp/cslage/e2v_fits_files/satellite/20200902-injectdata'\n",
    "#main_dir = '/project/bootcamp/cslage/e2v_fits_files/satellite/20200831-injectdata'\n",
    "\n",
    "## Input for script\n",
    "infiles = sorted(glob.glob(join(main_dir, '*dark_dark*.fits')))[:10]\n",
    "sensor_name = 'Davis_electronics'\n",
    "manufacturer = 'e2v'\n",
    "namps = 16\n",
    "database = 'test.db'\n",
    "bias_frame = None\n",
    "dark_frame = None\n",
    "\n",
    "seg_names = ['C17', 'C16', 'C15', 'C14', 'C13', 'C12', 'C11', 'C10',\n",
    "             'C00', 'C01', 'C02', 'C03', 'C04', 'C05', 'C06', 'C07']\n",
    "\n",
    "## Task Configs\n",
    "ly = 200\n",
    "lx = 50\n",
    "num_iter = 1\n",
    "nsig = 5\n",
    "threshold = 1000."
   ]
  },
  {
   "cell_type": "code",
   "execution_count": 47,
   "metadata": {},
   "outputs": [],
   "source": [
    "## Get sensor information from header\n",
    "all_amps = imutils.allAmps(infiles[0])\n",
    "with fits.open(infiles[0]) as hdulist:\n",
    "    manufacturer = hdulist[0].header['CCD_MANU']\n",
    "    lsst_num = hdulist[0].header['LSST_NUM']\n",
    "\n",
    "with db_session(database) as session:\n",
    "\n",
    "    ## Get (add) sensor from (to) database\n",
    "    try:\n",
    "        sensor = Sensor.from_db(session, lsst_num=lsst_num)\n",
    "    except NoResultFound:\n",
    "        sensor = Sensor(sensor_name=sensor_name, lsst_num=lsst_num, manufacturer=manufacturer, \n",
    "                        namps=len(all_amps))\n",
    "        sensor.segments = {i : Segment(segment_name=AMP2SEG[i], amplifier_number=i) for i in all_amps}\n",
    "        sensor.add_to_db(session)\n",
    "        session.commit()\n",
    "\n",
    "    ## Get configuration and analysis settings\n",
    "    \n",
    "    for infile in infiles:\n",
    "\n",
    "        ccd = MaskedCCD(infile, bias_frame=bias_frame, dark_frame=dark_frame)        \n",
    "    \n",
    "        for i in all_amps:\n",
    "            exptime = 1\n",
    "            gain = 1\n",
    "            bp = BrightPixels(ccd, i, exptime, gain, ethresh=threshold)\n",
    "            pixels, columns = bp.find()\n",
    "\n",
    "            if len(columns) == 0:\n",
    "                continue\n",
    "            col = columns[0]\n",
    "            aggressor_imarr = ccd.unbiased_and_trimmed_image(i).getImage().getArray()\n",
    "            signal = np.mean(aggressor_imarr[:, col])    \n",
    "            aggressor_stamp = make_stamp(aggressor_imarr, 2000, col, ly=ly, lx=lx)\n",
    "\n",
    "            for j in all_amps:\n",
    "\n",
    "                victim_imarr = ccd.unbiased_and_trimmed_image(j).getImage().getArray()\n",
    "                victim_stamp = make_stamp(victim_imarr, 2000, col, ly=ly, lx=lx)\n",
    "                res = crosstalk_fit(aggressor_stamp, victim_stamp, noise=7.0, num_iter=num_iter, \n",
    "                                    nsig=nsig)\n",
    "                \n"
   ]
  },
  {
   "cell_type": "code",
   "execution_count": null,
   "metadata": {},
   "outputs": [],
   "source": [
    "\n",
    "        aggressor_stamp = make_stamp(aggressor_imarr, 2000, col, ly=ly, lx=lx)\n",
    "        if signal < threshold:\n",
    "            continue\n",
    "\n",
    "        for j in all_amps:\n",
    "\n",
    "            victim_imarr = ccd.unbiased_and_trimmed_image(j).getImage().getArray()\n",
    "            victim_stamp = make_stamp(victim_imarr, 2000, col, ly=ly, lx=lx)\n",
    "            res = crosstalk_fit(aggressor_stamp, victim_stamp, noise=7.0, num_iter=num_iter, \n",
    "                                nsig=nsig)\n",
    "\n",
    "            ## Add result to database\n",
    "            result = Result(aggressor_id=sensor.segments[i].id, aggressor_signal=signal,\n",
    "                            coefficient=res[0], error=res[4], method='MODEL_LSQ',\n",
    "                            victim_id=sensor.segments[j].id)\n",
    "            result.add_to_db(session)"
   ]
  },
  {
   "cell_type": "code",
   "execution_count": null,
   "metadata": {},
   "outputs": [],
   "source": []
  }
 ],
 "metadata": {
  "kernelspec": {
   "display_name": "LSST",
   "language": "python",
   "name": "lsst"
  },
  "language_info": {
   "codemirror_mode": {
    "name": "ipython",
    "version": 3
   },
   "file_extension": ".py",
   "mimetype": "text/x-python",
   "name": "python",
   "nbconvert_exporter": "python",
   "pygments_lexer": "ipython3",
   "version": "3.7.8"
  }
 },
 "nbformat": 4,
 "nbformat_minor": 4
}
